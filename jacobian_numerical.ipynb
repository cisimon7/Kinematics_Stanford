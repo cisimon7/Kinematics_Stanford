{
 "cells": [
  {
   "cell_type": "code",
   "execution_count": 1,
   "metadata": {
    "collapsed": true
   },
   "outputs": [],
   "source": [
    "from utils import *\n",
    "from sympy import symbols, trigsimp, lambdify, diff, init_printing\n",
    "init_printing(use_unicode=True)"
   ]
  },
  {
   "cell_type": "code",
   "execution_count": 2,
   "outputs": [],
   "source": [
    "# Joint parameters declaration\n",
    "q1, q2, d3, q4, q5, q6 = symbols(\"q1 q2 d3 q4 q5 q6\", real=True)"
   ],
   "metadata": {
    "collapsed": false,
    "pycharm": {
     "name": "#%%\n"
    }
   }
  },
  {
   "cell_type": "code",
   "execution_count": 3,
   "outputs": [],
   "source": [
    "# Link length initialization\n",
    "l1, l2, l3 = 10, 20, 30"
   ],
   "metadata": {
    "collapsed": false,
    "pycharm": {
     "name": "#%%\n"
    }
   }
  },
  {
   "cell_type": "code",
   "execution_count": 4,
   "outputs": [
    {
     "data": {
      "text/plain": "⎡(-(sin(q₁)⋅cos(q₂)⋅cos(q₄) + sin(q₄)⋅cos(q₁))⋅cos(q₅) + sin(q₁)⋅sin(q₂)⋅sin(q\n⎢                                                                             \n⎢((-sin(q₁)⋅sin(q₄) + cos(q₁)⋅cos(q₂)⋅cos(q₄))⋅cos(q₅) - sin(q₂)⋅sin(q₅)⋅cos(q\n⎢                                                                             \n⎢                                 (sin(q₂)⋅cos(q₄)⋅cos(q₅) + sin(q₅)⋅cos(q₂))⋅\n⎢                                                                             \n⎣                                                                       0     \n\n₅))⋅sin(q₆) + (-sin(q₁)⋅sin(q₄)⋅cos(q₂) + cos(q₁)⋅cos(q₄))⋅cos(q₆)  (-(sin(q₁)\n                                                                              \n₁))⋅sin(q₆) + (sin(q₁)⋅cos(q₄) + sin(q₄)⋅cos(q₁)⋅cos(q₂))⋅cos(q₆)   ((-sin(q₁)\n                                                                              \nsin(q₆) + sin(q₂)⋅sin(q₄)⋅cos(q₆)                                             \n                                                                              \n                                                                              \n\n⋅cos(q₂)⋅cos(q₄) + sin(q₄)⋅cos(q₁))⋅cos(q₅) + sin(q₁)⋅sin(q₂)⋅sin(q₅))⋅cos(q₆)\n                                                                              \n⋅sin(q₄) + cos(q₁)⋅cos(q₂)⋅cos(q₄))⋅cos(q₅) - sin(q₂)⋅sin(q₅)⋅cos(q₁))⋅cos(q₆)\n                                                                              \n                       (sin(q₂)⋅cos(q₄)⋅cos(q₅) + sin(q₅)⋅cos(q₂))⋅cos(q₆) - s\n                                                                              \n                                                             0                \n\n - (-sin(q₁)⋅sin(q₄)⋅cos(q₂) + cos(q₁)⋅cos(q₄))⋅sin(q₆)   (sin(q₁)⋅cos(q₂)⋅cos\n                                                                              \n - (sin(q₁)⋅cos(q₄) + sin(q₄)⋅cos(q₁)⋅cos(q₂))⋅sin(q₆)   -(-sin(q₁)⋅sin(q₄) + \n                                                                              \nin(q₂)⋅sin(q₄)⋅sin(q₆)                                                     -si\n                                                                              \n                                                                              \n\n(q₄) + sin(q₄)⋅cos(q₁))⋅sin(q₅) + sin(q₁)⋅sin(q₂)⋅cos(q₅)   d₃⋅sin(q₁)⋅sin(q₂)\n                                                                              \ncos(q₁)⋅cos(q₂)⋅cos(q₄))⋅sin(q₅) - sin(q₂)⋅cos(q₁)⋅cos(q₅)  -d₃⋅sin(q₂)⋅cos(q₁\n                                                                              \nn(q₂)⋅sin(q₅)⋅cos(q₄) + cos(q₂)⋅cos(q₅)                                 d₃⋅cos\n                                                                              \n                  0                                                           \n\n + 30⋅sin(q₁)⋅sin(q₂) - 20⋅cos(q₁) ⎤\n                                   ⎥\n) - 20⋅sin(q₁) - 30⋅sin(q₂)⋅cos(q₁)⎥\n                                   ⎥\n(q₂) + 30⋅cos(q₂) + 10             ⎥\n                                   ⎥\n        1                          ⎦",
      "text/latex": "$\\displaystyle \\left[\\begin{matrix}\\left(- \\left(\\sin{\\left(q_{1} \\right)} \\cos{\\left(q_{2} \\right)} \\cos{\\left(q_{4} \\right)} + \\sin{\\left(q_{4} \\right)} \\cos{\\left(q_{1} \\right)}\\right) \\cos{\\left(q_{5} \\right)} + \\sin{\\left(q_{1} \\right)} \\sin{\\left(q_{2} \\right)} \\sin{\\left(q_{5} \\right)}\\right) \\sin{\\left(q_{6} \\right)} + \\left(- \\sin{\\left(q_{1} \\right)} \\sin{\\left(q_{4} \\right)} \\cos{\\left(q_{2} \\right)} + \\cos{\\left(q_{1} \\right)} \\cos{\\left(q_{4} \\right)}\\right) \\cos{\\left(q_{6} \\right)} & \\left(- \\left(\\sin{\\left(q_{1} \\right)} \\cos{\\left(q_{2} \\right)} \\cos{\\left(q_{4} \\right)} + \\sin{\\left(q_{4} \\right)} \\cos{\\left(q_{1} \\right)}\\right) \\cos{\\left(q_{5} \\right)} + \\sin{\\left(q_{1} \\right)} \\sin{\\left(q_{2} \\right)} \\sin{\\left(q_{5} \\right)}\\right) \\cos{\\left(q_{6} \\right)} - \\left(- \\sin{\\left(q_{1} \\right)} \\sin{\\left(q_{4} \\right)} \\cos{\\left(q_{2} \\right)} + \\cos{\\left(q_{1} \\right)} \\cos{\\left(q_{4} \\right)}\\right) \\sin{\\left(q_{6} \\right)} & \\left(\\sin{\\left(q_{1} \\right)} \\cos{\\left(q_{2} \\right)} \\cos{\\left(q_{4} \\right)} + \\sin{\\left(q_{4} \\right)} \\cos{\\left(q_{1} \\right)}\\right) \\sin{\\left(q_{5} \\right)} + \\sin{\\left(q_{1} \\right)} \\sin{\\left(q_{2} \\right)} \\cos{\\left(q_{5} \\right)} & d_{3} \\sin{\\left(q_{1} \\right)} \\sin{\\left(q_{2} \\right)} + 30 \\sin{\\left(q_{1} \\right)} \\sin{\\left(q_{2} \\right)} - 20 \\cos{\\left(q_{1} \\right)}\\\\\\left(\\left(- \\sin{\\left(q_{1} \\right)} \\sin{\\left(q_{4} \\right)} + \\cos{\\left(q_{1} \\right)} \\cos{\\left(q_{2} \\right)} \\cos{\\left(q_{4} \\right)}\\right) \\cos{\\left(q_{5} \\right)} - \\sin{\\left(q_{2} \\right)} \\sin{\\left(q_{5} \\right)} \\cos{\\left(q_{1} \\right)}\\right) \\sin{\\left(q_{6} \\right)} + \\left(\\sin{\\left(q_{1} \\right)} \\cos{\\left(q_{4} \\right)} + \\sin{\\left(q_{4} \\right)} \\cos{\\left(q_{1} \\right)} \\cos{\\left(q_{2} \\right)}\\right) \\cos{\\left(q_{6} \\right)} & \\left(\\left(- \\sin{\\left(q_{1} \\right)} \\sin{\\left(q_{4} \\right)} + \\cos{\\left(q_{1} \\right)} \\cos{\\left(q_{2} \\right)} \\cos{\\left(q_{4} \\right)}\\right) \\cos{\\left(q_{5} \\right)} - \\sin{\\left(q_{2} \\right)} \\sin{\\left(q_{5} \\right)} \\cos{\\left(q_{1} \\right)}\\right) \\cos{\\left(q_{6} \\right)} - \\left(\\sin{\\left(q_{1} \\right)} \\cos{\\left(q_{4} \\right)} + \\sin{\\left(q_{4} \\right)} \\cos{\\left(q_{1} \\right)} \\cos{\\left(q_{2} \\right)}\\right) \\sin{\\left(q_{6} \\right)} & - \\left(- \\sin{\\left(q_{1} \\right)} \\sin{\\left(q_{4} \\right)} + \\cos{\\left(q_{1} \\right)} \\cos{\\left(q_{2} \\right)} \\cos{\\left(q_{4} \\right)}\\right) \\sin{\\left(q_{5} \\right)} - \\sin{\\left(q_{2} \\right)} \\cos{\\left(q_{1} \\right)} \\cos{\\left(q_{5} \\right)} & - d_{3} \\sin{\\left(q_{2} \\right)} \\cos{\\left(q_{1} \\right)} - 20 \\sin{\\left(q_{1} \\right)} - 30 \\sin{\\left(q_{2} \\right)} \\cos{\\left(q_{1} \\right)}\\\\\\left(\\sin{\\left(q_{2} \\right)} \\cos{\\left(q_{4} \\right)} \\cos{\\left(q_{5} \\right)} + \\sin{\\left(q_{5} \\right)} \\cos{\\left(q_{2} \\right)}\\right) \\sin{\\left(q_{6} \\right)} + \\sin{\\left(q_{2} \\right)} \\sin{\\left(q_{4} \\right)} \\cos{\\left(q_{6} \\right)} & \\left(\\sin{\\left(q_{2} \\right)} \\cos{\\left(q_{4} \\right)} \\cos{\\left(q_{5} \\right)} + \\sin{\\left(q_{5} \\right)} \\cos{\\left(q_{2} \\right)}\\right) \\cos{\\left(q_{6} \\right)} - \\sin{\\left(q_{2} \\right)} \\sin{\\left(q_{4} \\right)} \\sin{\\left(q_{6} \\right)} & - \\sin{\\left(q_{2} \\right)} \\sin{\\left(q_{5} \\right)} \\cos{\\left(q_{4} \\right)} + \\cos{\\left(q_{2} \\right)} \\cos{\\left(q_{5} \\right)} & d_{3} \\cos{\\left(q_{2} \\right)} + 30 \\cos{\\left(q_{2} \\right)} + 10\\\\0 & 0 & 0 & 1\\end{matrix}\\right]$"
     },
     "execution_count": 4,
     "metadata": {},
     "output_type": "execute_result"
    }
   ],
   "source": [
    "# Forward Kinematics\n",
    "H = Rz(q1)*Tz(l1)*Tx(-l2)*Rx(q2)*Tz(l3)*Tz(d3)*Rz(q4)*Rx(q5)*Rz(q6)\n",
    "H = trigsimp(H)\n",
    "H"
   ],
   "metadata": {
    "collapsed": false,
    "pycharm": {
     "name": "#%%\n"
    }
   }
  },
  {
   "cell_type": "code",
   "execution_count": 5,
   "outputs": [
    {
     "data": {
      "text/plain": "⎡(-(sin(q₁)⋅cos(q₂)⋅cos(q₄) + sin(q₄)⋅cos(q₁))⋅cos(q₅) + sin(q₁)⋅sin(q₂)⋅sin(q\n⎢                                                                             \n⎢((-sin(q₁)⋅sin(q₄) + cos(q₁)⋅cos(q₂)⋅cos(q₄))⋅cos(q₅) - sin(q₂)⋅sin(q₅)⋅cos(q\n⎢                                                                             \n⎣                                 (sin(q₂)⋅cos(q₄)⋅cos(q₅) + sin(q₅)⋅cos(q₂))⋅\n\n₅))⋅sin(q₆) + (-sin(q₁)⋅sin(q₄)⋅cos(q₂) + cos(q₁)⋅cos(q₄))⋅cos(q₆)  (-(sin(q₁)\n                                                                              \n₁))⋅sin(q₆) + (sin(q₁)⋅cos(q₄) + sin(q₄)⋅cos(q₁)⋅cos(q₂))⋅cos(q₆)   ((-sin(q₁)\n                                                                              \nsin(q₆) + sin(q₂)⋅sin(q₄)⋅cos(q₆)                                             \n\n⋅cos(q₂)⋅cos(q₄) + sin(q₄)⋅cos(q₁))⋅cos(q₅) + sin(q₁)⋅sin(q₂)⋅sin(q₅))⋅cos(q₆)\n                                                                              \n⋅sin(q₄) + cos(q₁)⋅cos(q₂)⋅cos(q₄))⋅cos(q₅) - sin(q₂)⋅sin(q₅)⋅cos(q₁))⋅cos(q₆)\n                                                                              \n                       (sin(q₂)⋅cos(q₄)⋅cos(q₅) + sin(q₅)⋅cos(q₂))⋅cos(q₆) - s\n\n - (-sin(q₁)⋅sin(q₄)⋅cos(q₂) + cos(q₁)⋅cos(q₄))⋅sin(q₆)   (sin(q₁)⋅cos(q₂)⋅cos\n                                                                              \n - (sin(q₁)⋅cos(q₄) + sin(q₄)⋅cos(q₁)⋅cos(q₂))⋅sin(q₆)   -(-sin(q₁)⋅sin(q₄) + \n                                                                              \nin(q₂)⋅sin(q₄)⋅sin(q₆)                                                     -si\n\n(q₄) + sin(q₄)⋅cos(q₁))⋅sin(q₅) + sin(q₁)⋅sin(q₂)⋅cos(q₅) ⎤\n                                                          ⎥\ncos(q₁)⋅cos(q₂)⋅cos(q₄))⋅sin(q₅) - sin(q₂)⋅cos(q₁)⋅cos(q₅)⎥\n                                                          ⎥\nn(q₂)⋅sin(q₅)⋅cos(q₄) + cos(q₂)⋅cos(q₅)                   ⎦",
      "text/latex": "$\\displaystyle \\left[\\begin{matrix}\\left(- \\left(\\sin{\\left(q_{1} \\right)} \\cos{\\left(q_{2} \\right)} \\cos{\\left(q_{4} \\right)} + \\sin{\\left(q_{4} \\right)} \\cos{\\left(q_{1} \\right)}\\right) \\cos{\\left(q_{5} \\right)} + \\sin{\\left(q_{1} \\right)} \\sin{\\left(q_{2} \\right)} \\sin{\\left(q_{5} \\right)}\\right) \\sin{\\left(q_{6} \\right)} + \\left(- \\sin{\\left(q_{1} \\right)} \\sin{\\left(q_{4} \\right)} \\cos{\\left(q_{2} \\right)} + \\cos{\\left(q_{1} \\right)} \\cos{\\left(q_{4} \\right)}\\right) \\cos{\\left(q_{6} \\right)} & \\left(- \\left(\\sin{\\left(q_{1} \\right)} \\cos{\\left(q_{2} \\right)} \\cos{\\left(q_{4} \\right)} + \\sin{\\left(q_{4} \\right)} \\cos{\\left(q_{1} \\right)}\\right) \\cos{\\left(q_{5} \\right)} + \\sin{\\left(q_{1} \\right)} \\sin{\\left(q_{2} \\right)} \\sin{\\left(q_{5} \\right)}\\right) \\cos{\\left(q_{6} \\right)} - \\left(- \\sin{\\left(q_{1} \\right)} \\sin{\\left(q_{4} \\right)} \\cos{\\left(q_{2} \\right)} + \\cos{\\left(q_{1} \\right)} \\cos{\\left(q_{4} \\right)}\\right) \\sin{\\left(q_{6} \\right)} & \\left(\\sin{\\left(q_{1} \\right)} \\cos{\\left(q_{2} \\right)} \\cos{\\left(q_{4} \\right)} + \\sin{\\left(q_{4} \\right)} \\cos{\\left(q_{1} \\right)}\\right) \\sin{\\left(q_{5} \\right)} + \\sin{\\left(q_{1} \\right)} \\sin{\\left(q_{2} \\right)} \\cos{\\left(q_{5} \\right)}\\\\\\left(\\left(- \\sin{\\left(q_{1} \\right)} \\sin{\\left(q_{4} \\right)} + \\cos{\\left(q_{1} \\right)} \\cos{\\left(q_{2} \\right)} \\cos{\\left(q_{4} \\right)}\\right) \\cos{\\left(q_{5} \\right)} - \\sin{\\left(q_{2} \\right)} \\sin{\\left(q_{5} \\right)} \\cos{\\left(q_{1} \\right)}\\right) \\sin{\\left(q_{6} \\right)} + \\left(\\sin{\\left(q_{1} \\right)} \\cos{\\left(q_{4} \\right)} + \\sin{\\left(q_{4} \\right)} \\cos{\\left(q_{1} \\right)} \\cos{\\left(q_{2} \\right)}\\right) \\cos{\\left(q_{6} \\right)} & \\left(\\left(- \\sin{\\left(q_{1} \\right)} \\sin{\\left(q_{4} \\right)} + \\cos{\\left(q_{1} \\right)} \\cos{\\left(q_{2} \\right)} \\cos{\\left(q_{4} \\right)}\\right) \\cos{\\left(q_{5} \\right)} - \\sin{\\left(q_{2} \\right)} \\sin{\\left(q_{5} \\right)} \\cos{\\left(q_{1} \\right)}\\right) \\cos{\\left(q_{6} \\right)} - \\left(\\sin{\\left(q_{1} \\right)} \\cos{\\left(q_{4} \\right)} + \\sin{\\left(q_{4} \\right)} \\cos{\\left(q_{1} \\right)} \\cos{\\left(q_{2} \\right)}\\right) \\sin{\\left(q_{6} \\right)} & - \\left(- \\sin{\\left(q_{1} \\right)} \\sin{\\left(q_{4} \\right)} + \\cos{\\left(q_{1} \\right)} \\cos{\\left(q_{2} \\right)} \\cos{\\left(q_{4} \\right)}\\right) \\sin{\\left(q_{5} \\right)} - \\sin{\\left(q_{2} \\right)} \\cos{\\left(q_{1} \\right)} \\cos{\\left(q_{5} \\right)}\\\\\\left(\\sin{\\left(q_{2} \\right)} \\cos{\\left(q_{4} \\right)} \\cos{\\left(q_{5} \\right)} + \\sin{\\left(q_{5} \\right)} \\cos{\\left(q_{2} \\right)}\\right) \\sin{\\left(q_{6} \\right)} + \\sin{\\left(q_{2} \\right)} \\sin{\\left(q_{4} \\right)} \\cos{\\left(q_{6} \\right)} & \\left(\\sin{\\left(q_{2} \\right)} \\cos{\\left(q_{4} \\right)} \\cos{\\left(q_{5} \\right)} + \\sin{\\left(q_{5} \\right)} \\cos{\\left(q_{2} \\right)}\\right) \\cos{\\left(q_{6} \\right)} - \\sin{\\left(q_{2} \\right)} \\sin{\\left(q_{4} \\right)} \\sin{\\left(q_{6} \\right)} & - \\sin{\\left(q_{2} \\right)} \\sin{\\left(q_{5} \\right)} \\cos{\\left(q_{4} \\right)} + \\cos{\\left(q_{2} \\right)} \\cos{\\left(q_{5} \\right)}\\end{matrix}\\right]$"
     },
     "execution_count": 5,
     "metadata": {},
     "output_type": "execute_result"
    }
   ],
   "source": [
    "# General Rotation Matrix\n",
    "R = H[0:3, :-1]\n",
    "R"
   ],
   "metadata": {
    "collapsed": false,
    "pycharm": {
     "name": "#%%\n"
    }
   }
  },
  {
   "cell_type": "code",
   "execution_count": 6,
   "outputs": [
    {
     "data": {
      "text/plain": "⎡d₃⋅sin(q₁)⋅sin(q₂) + 30⋅sin(q₁)⋅sin(q₂) - 20⋅cos(q₁) ⎤\n⎢                                                     ⎥\n⎢-d₃⋅sin(q₂)⋅cos(q₁) - 20⋅sin(q₁) - 30⋅sin(q₂)⋅cos(q₁)⎥\n⎢                                                     ⎥\n⎣            d₃⋅cos(q₂) + 30⋅cos(q₂) + 10             ⎦",
      "text/latex": "$\\displaystyle \\left[\\begin{matrix}d_{3} \\sin{\\left(q_{1} \\right)} \\sin{\\left(q_{2} \\right)} + 30 \\sin{\\left(q_{1} \\right)} \\sin{\\left(q_{2} \\right)} - 20 \\cos{\\left(q_{1} \\right)}\\\\- d_{3} \\sin{\\left(q_{2} \\right)} \\cos{\\left(q_{1} \\right)} - 20 \\sin{\\left(q_{1} \\right)} - 30 \\sin{\\left(q_{2} \\right)} \\cos{\\left(q_{1} \\right)}\\\\d_{3} \\cos{\\left(q_{2} \\right)} + 30 \\cos{\\left(q_{2} \\right)} + 10\\end{matrix}\\right]$"
     },
     "execution_count": 6,
     "metadata": {},
     "output_type": "execute_result"
    }
   ],
   "source": [
    "# General Translational Matrix\n",
    "T = H[0:3, -1]\n",
    "T"
   ],
   "metadata": {
    "collapsed": false,
    "pycharm": {
     "name": "#%%\n"
    }
   }
  },
  {
   "cell_type": "code",
   "execution_count": 7,
   "outputs": [
    {
     "data": {
      "text/plain": "⎡d₃⋅sin(q₂)⋅cos(q₁) + 20⋅sin(q₁) + 30⋅sin(q₂)⋅cos(q₁)  (d₃ + 30)⋅sin(q₁)⋅cos(q\n⎢                                                                             \n⎢d₃⋅sin(q₁)⋅sin(q₂) + 30⋅sin(q₁)⋅sin(q₂) - 20⋅cos(q₁)  -(d₃ + 30)⋅cos(q₁)⋅cos(\n⎢                                                                             \n⎢                         0                                -(d₃ + 30)⋅sin(q₂) \n⎢                                                                             \n⎢                         0                                     cos(q₁)       \n⎢                                                                             \n⎢                         0                                     sin(q₁)       \n⎢                                                                             \n⎣                         1                                        0          \n\n₂)   sin(q₁)⋅sin(q₂)          0                              0                \n                                                                              \nq₂)  -sin(q₂)⋅cos(q₁)         0                              0                \n                                                                              \n         cos(q₂)              0                              0                \n                                                                              \n            0          sin(q₁)⋅sin(q₂)   -sin(q₁)⋅sin(q₄)⋅cos(q₂) + cos(q₁)⋅co\n                                                                              \n            0          -sin(q₂)⋅cos(q₁)  sin(q₁)⋅cos(q₄) + sin(q₄)⋅cos(q₁)⋅cos\n                                                                              \n            0              cos(q₂)                    sin(q₂)⋅sin(q₄)         \n\n                                                0                             \n                                                                              \n                                                0                             \n                                                                              \n                                                0                             \n                                                                              \ns(q₄)  sin(q₁)⋅sin(q₂)⋅cos(q₅) + sin(q₁)⋅sin(q₅)⋅cos(q₂)⋅cos(q₄) + sin(q₄)⋅sin\n                                                                              \n(q₂)   sin(q₁)⋅sin(q₄)⋅sin(q₅) - sin(q₂)⋅cos(q₁)⋅cos(q₅) - sin(q₅)⋅cos(q₁)⋅cos\n                                                                              \n                           -sin(q₂)⋅sin(q₅)⋅cos(q₄) + cos(q₂)⋅cos(q₅)         \n\n            ⎤\n            ⎥\n            ⎥\n            ⎥\n            ⎥\n            ⎥\n(q₅)⋅cos(q₁)⎥\n            ⎥\n(q₂)⋅cos(q₄)⎥\n            ⎥\n            ⎦",
      "text/latex": "$\\displaystyle \\left[\\begin{matrix}d_{3} \\sin{\\left(q_{2} \\right)} \\cos{\\left(q_{1} \\right)} + 20 \\sin{\\left(q_{1} \\right)} + 30 \\sin{\\left(q_{2} \\right)} \\cos{\\left(q_{1} \\right)} & \\left(d_{3} + 30\\right) \\sin{\\left(q_{1} \\right)} \\cos{\\left(q_{2} \\right)} & \\sin{\\left(q_{1} \\right)} \\sin{\\left(q_{2} \\right)} & 0 & 0 & 0\\\\d_{3} \\sin{\\left(q_{1} \\right)} \\sin{\\left(q_{2} \\right)} + 30 \\sin{\\left(q_{1} \\right)} \\sin{\\left(q_{2} \\right)} - 20 \\cos{\\left(q_{1} \\right)} & - \\left(d_{3} + 30\\right) \\cos{\\left(q_{1} \\right)} \\cos{\\left(q_{2} \\right)} & - \\sin{\\left(q_{2} \\right)} \\cos{\\left(q_{1} \\right)} & 0 & 0 & 0\\\\0 & - \\left(d_{3} + 30\\right) \\sin{\\left(q_{2} \\right)} & \\cos{\\left(q_{2} \\right)} & 0 & 0 & 0\\\\0 & \\cos{\\left(q_{1} \\right)} & 0 & \\sin{\\left(q_{1} \\right)} \\sin{\\left(q_{2} \\right)} & - \\sin{\\left(q_{1} \\right)} \\sin{\\left(q_{4} \\right)} \\cos{\\left(q_{2} \\right)} + \\cos{\\left(q_{1} \\right)} \\cos{\\left(q_{4} \\right)} & \\sin{\\left(q_{1} \\right)} \\sin{\\left(q_{2} \\right)} \\cos{\\left(q_{5} \\right)} + \\sin{\\left(q_{1} \\right)} \\sin{\\left(q_{5} \\right)} \\cos{\\left(q_{2} \\right)} \\cos{\\left(q_{4} \\right)} + \\sin{\\left(q_{4} \\right)} \\sin{\\left(q_{5} \\right)} \\cos{\\left(q_{1} \\right)}\\\\0 & \\sin{\\left(q_{1} \\right)} & 0 & - \\sin{\\left(q_{2} \\right)} \\cos{\\left(q_{1} \\right)} & \\sin{\\left(q_{1} \\right)} \\cos{\\left(q_{4} \\right)} + \\sin{\\left(q_{4} \\right)} \\cos{\\left(q_{1} \\right)} \\cos{\\left(q_{2} \\right)} & \\sin{\\left(q_{1} \\right)} \\sin{\\left(q_{4} \\right)} \\sin{\\left(q_{5} \\right)} - \\sin{\\left(q_{2} \\right)} \\cos{\\left(q_{1} \\right)} \\cos{\\left(q_{5} \\right)} - \\sin{\\left(q_{5} \\right)} \\cos{\\left(q_{1} \\right)} \\cos{\\left(q_{2} \\right)} \\cos{\\left(q_{4} \\right)}\\\\1 & 0 & 0 & \\cos{\\left(q_{2} \\right)} & \\sin{\\left(q_{2} \\right)} \\sin{\\left(q_{4} \\right)} & - \\sin{\\left(q_{2} \\right)} \\sin{\\left(q_{5} \\right)} \\cos{\\left(q_{4} \\right)} + \\cos{\\left(q_{2} \\right)} \\cos{\\left(q_{5} \\right)}\\end{matrix}\\right]$"
     },
     "execution_count": 7,
     "metadata": {},
     "output_type": "execute_result"
    }
   ],
   "source": [
    "# Calculating Jacobian Matrix\n",
    "# Running this cell takes about 10 minutes\n",
    "# Maybe Jump by 2 cells, to load the Jacobian Function from File\n",
    "Jaco = Matrix([])\n",
    "\n",
    "var = [q1, q2, d3, q4, q5, q6]\n",
    "for j in var:\n",
    "    HD = trigsimp(diff(H, j))\n",
    "\n",
    "    T1 = HD[0:3, -1]\n",
    "\n",
    "    RD = HD[0:3, :-1]\n",
    "    RW = trigsimp(RD*R.T)\n",
    "\n",
    "    J = T1.row_insert(3, Matrix([RW[2,1], RW[0,2], RW[1,0]]))\n",
    "\n",
    "    Jaco = Jaco.col_insert(len(Jaco), J)\n",
    "\n",
    "Jaco"
   ],
   "metadata": {
    "collapsed": false,
    "pycharm": {
     "name": "#%%\n"
    }
   }
  },
  {
   "cell_type": "code",
   "execution_count": 8,
   "outputs": [],
   "source": [
    "# Loading Jacobian Function to file to prevent having to run everytime\n",
    "import dill\n",
    "dill.settings[\"recurse\"]=True\n",
    "\n",
    "J_Function = lambdify([(q1, q2, d3, q4, q5, q6)], Jaco, \"numpy\")\n",
    "dill.dump(J_Function, open(\"J_Function\", \"wb\"))"
   ],
   "metadata": {
    "collapsed": false,
    "pycharm": {
     "name": "#%%\n"
    }
   }
  },
  {
   "cell_type": "code",
   "execution_count": 9,
   "outputs": [
    {
     "data": {
      "text/plain": "array([[  0.,   0.,   0.,   0.,   0.,   0.],\n       [-20., -30.,  -0.,   0.,   0.,   0.],\n       [  0.,  -0.,   1.,   0.,   0.,   0.],\n       [  0.,   1.,   0.,   0.,   1.,   0.],\n       [  0.,   0.,   0.,  -0.,   0.,   0.],\n       [  1.,   0.,   0.,   1.,   0.,   1.]])"
     },
     "execution_count": 9,
     "metadata": {},
     "output_type": "execute_result"
    }
   ],
   "source": [
    "J_Func = dill.load(open(\"J_Function\", \"rb\"))\n",
    "A = J_Func((0,0,0,0,0,0))\n",
    "A"
   ],
   "metadata": {
    "collapsed": false,
    "pycharm": {
     "name": "#%%\n"
    }
   }
  },
  {
   "cell_type": "code",
   "execution_count": null,
   "outputs": [],
   "source": [],
   "metadata": {
    "collapsed": false,
    "pycharm": {
     "name": "#%%\n"
    }
   }
  }
 ],
 "metadata": {
  "kernelspec": {
   "display_name": "Python 3",
   "language": "python",
   "name": "python3"
  },
  "language_info": {
   "codemirror_mode": {
    "name": "ipython",
    "version": 2
   },
   "file_extension": ".py",
   "mimetype": "text/x-python",
   "name": "python",
   "nbconvert_exporter": "python",
   "pygments_lexer": "ipython2",
   "version": "2.7.6"
  }
 },
 "nbformat": 4,
 "nbformat_minor": 0
}