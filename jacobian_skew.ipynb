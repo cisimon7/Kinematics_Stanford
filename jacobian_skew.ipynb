{
 "cells": [
  {
   "cell_type": "code",
   "execution_count": 1,
   "outputs": [],
   "source": [
    "from utils import *\n",
    "from sympy import symbols, trigsimp, lambdify, diff, init_printing, eye\n",
    "init_printing(use_unicode=True)"
   ],
   "metadata": {
    "collapsed": false,
    "pycharm": {
     "name": "#%%\n"
    }
   }
  },
  {
   "cell_type": "code",
   "execution_count": 2,
   "outputs": [],
   "source": [
    "# Joint parameters declaration\n",
    "q1, q2, d3, q4, q5, q6 = symbols(\"q1 q2 d3 q4 q5 q6\", real=True)"
   ],
   "metadata": {
    "collapsed": false,
    "pycharm": {
     "name": "#%%\n"
    }
   }
  },
  {
   "cell_type": "code",
   "execution_count": 3,
   "outputs": [],
   "source": [
    "# Link length initialization\n",
    "l1, l2, l3 = 10, 20, 30"
   ],
   "metadata": {
    "collapsed": false,
    "pycharm": {
     "name": "#%%\n"
    }
   }
  },
  {
   "cell_type": "code",
   "execution_count": 4,
   "outputs": [
    {
     "data": {
      "text/plain": "⎡1  0  0  0⎤\n⎢          ⎥\n⎢0  1  0  0⎥\n⎢          ⎥\n⎢0  0  1  0⎥\n⎢          ⎥\n⎣0  0  0  1⎦",
      "text/latex": "$\\displaystyle \\left[\\begin{matrix}1 & 0 & 0 & 0\\\\0 & 1 & 0 & 0\\\\0 & 0 & 1 & 0\\\\0 & 0 & 0 & 1\\end{matrix}\\right]$"
     },
     "execution_count": 4,
     "metadata": {},
     "output_type": "execute_result"
    }
   ],
   "source": [
    "# Joint 0 Position vector and rotation axis\n",
    "H0 = eye(4)\n",
    "P0 = H0[0:3, -1]\n",
    "Z0 = H0[0:3, 2]\n",
    "H0"
   ],
   "metadata": {
    "collapsed": false,
    "pycharm": {
     "name": "#%%\n"
    }
   }
  },
  {
   "cell_type": "code",
   "execution_count": 5,
   "outputs": [
    {
     "data": {
      "text/plain": "⎡cos(q₁)⎤\n⎢       ⎥\n⎢sin(q₁)⎥\n⎢       ⎥\n⎣   0   ⎦",
      "text/latex": "$\\displaystyle \\left[\\begin{matrix}\\cos{\\left(q_{1} \\right)}\\\\\\sin{\\left(q_{1} \\right)}\\\\0\\end{matrix}\\right]$"
     },
     "execution_count": 5,
     "metadata": {},
     "output_type": "execute_result"
    }
   ],
   "source": [
    "# Joint 1 Position vector and rotation axis\n",
    "H1 = trigsimp(Rz(q1)*Tz(l1))\n",
    "P1 = H1[0:3, -1]\n",
    "Z1 = H1[0:3, 0]\n",
    "Z1"
   ],
   "metadata": {
    "collapsed": false,
    "pycharm": {
     "name": "#%%\n"
    }
   }
  },
  {
   "cell_type": "code",
   "execution_count": 6,
   "outputs": [
    {
     "data": {
      "text/plain": "⎡cos(q₁)  -sin(q₁)⋅cos(q₂)  sin(q₁)⋅sin(q₂)   -20⋅cos(q₁)⎤\n⎢                                                        ⎥\n⎢sin(q₁)  cos(q₁)⋅cos(q₂)   -sin(q₂)⋅cos(q₁)  -20⋅sin(q₁)⎥\n⎢                                                        ⎥\n⎢   0         sin(q₂)           cos(q₂)           10     ⎥\n⎢                                                        ⎥\n⎣   0            0                 0               1     ⎦",
      "text/latex": "$\\displaystyle \\left[\\begin{matrix}\\cos{\\left(q_{1} \\right)} & - \\sin{\\left(q_{1} \\right)} \\cos{\\left(q_{2} \\right)} & \\sin{\\left(q_{1} \\right)} \\sin{\\left(q_{2} \\right)} & - 20 \\cos{\\left(q_{1} \\right)}\\\\\\sin{\\left(q_{1} \\right)} & \\cos{\\left(q_{1} \\right)} \\cos{\\left(q_{2} \\right)} & - \\sin{\\left(q_{2} \\right)} \\cos{\\left(q_{1} \\right)} & - 20 \\sin{\\left(q_{1} \\right)}\\\\0 & \\sin{\\left(q_{2} \\right)} & \\cos{\\left(q_{2} \\right)} & 10\\\\0 & 0 & 0 & 1\\end{matrix}\\right]$"
     },
     "execution_count": 6,
     "metadata": {},
     "output_type": "execute_result"
    }
   ],
   "source": [
    "# Joint 2 Position vector and rotation axis\n",
    "H2 = trigsimp(Rz(q1)*Tz(l1)*Tx(-l2)*Rx(q2))\n",
    "P2 = H2[0:3, -1]\n",
    "Z2 = H2[0:3, 2]\n",
    "H2"
   ],
   "metadata": {
    "collapsed": false,
    "pycharm": {
     "name": "#%%\n"
    }
   }
  },
  {
   "cell_type": "code",
   "execution_count": 7,
   "outputs": [
    {
     "data": {
      "text/plain": "⎡cos(q₁)  -sin(q₁)⋅cos(q₂)  sin(q₁)⋅sin(q₂)   d₃⋅sin(q₁)⋅sin(q₂) + 30⋅sin(q₁)⋅\n⎢                                                                             \n⎢sin(q₁)  cos(q₁)⋅cos(q₂)   -sin(q₂)⋅cos(q₁)  -d₃⋅sin(q₂)⋅cos(q₁) - 20⋅sin(q₁)\n⎢                                                                             \n⎢   0         sin(q₂)           cos(q₂)                   d₃⋅cos(q₂) + 30⋅cos(\n⎢                                                                             \n⎣   0            0                 0                                    1     \n\nsin(q₂) - 20⋅cos(q₁) ⎤\n                     ⎥\n - 30⋅sin(q₂)⋅cos(q₁)⎥\n                     ⎥\nq₂) + 10             ⎥\n                     ⎥\n                     ⎦",
      "text/latex": "$\\displaystyle \\left[\\begin{matrix}\\cos{\\left(q_{1} \\right)} & - \\sin{\\left(q_{1} \\right)} \\cos{\\left(q_{2} \\right)} & \\sin{\\left(q_{1} \\right)} \\sin{\\left(q_{2} \\right)} & d_{3} \\sin{\\left(q_{1} \\right)} \\sin{\\left(q_{2} \\right)} + 30 \\sin{\\left(q_{1} \\right)} \\sin{\\left(q_{2} \\right)} - 20 \\cos{\\left(q_{1} \\right)}\\\\\\sin{\\left(q_{1} \\right)} & \\cos{\\left(q_{1} \\right)} \\cos{\\left(q_{2} \\right)} & - \\sin{\\left(q_{2} \\right)} \\cos{\\left(q_{1} \\right)} & - d_{3} \\sin{\\left(q_{2} \\right)} \\cos{\\left(q_{1} \\right)} - 20 \\sin{\\left(q_{1} \\right)} - 30 \\sin{\\left(q_{2} \\right)} \\cos{\\left(q_{1} \\right)}\\\\0 & \\sin{\\left(q_{2} \\right)} & \\cos{\\left(q_{2} \\right)} & d_{3} \\cos{\\left(q_{2} \\right)} + 30 \\cos{\\left(q_{2} \\right)} + 10\\\\0 & 0 & 0 & 1\\end{matrix}\\right]$"
     },
     "execution_count": 7,
     "metadata": {},
     "output_type": "execute_result"
    }
   ],
   "source": [
    "# Joint 3 Position vector and rotation axis\n",
    "H3 = trigsimp(Rz(q1)*Tz(l1)*Tx(-l2)*Rx(q2)*Tz(l3)*Tz(d3))\n",
    "P3 = H3[0:3, -1]\n",
    "Z3 = H3[0:3, 2]\n",
    "H3"
   ],
   "metadata": {
    "collapsed": false,
    "pycharm": {
     "name": "#%%\n"
    }
   }
  },
  {
   "cell_type": "code",
   "execution_count": 8,
   "outputs": [
    {
     "data": {
      "text/plain": "⎡-sin(q₁)⋅cos(q₂)⋅cos(q₄) - sin(q₄)⋅cos(q₁)⎤\n⎢                                          ⎥\n⎢-sin(q₁)⋅sin(q₄) + cos(q₁)⋅cos(q₂)⋅cos(q₄)⎥\n⎢                                          ⎥\n⎣             sin(q₂)⋅cos(q₄)              ⎦",
      "text/latex": "$\\displaystyle \\left[\\begin{matrix}- \\sin{\\left(q_{1} \\right)} \\cos{\\left(q_{2} \\right)} \\cos{\\left(q_{4} \\right)} - \\sin{\\left(q_{4} \\right)} \\cos{\\left(q_{1} \\right)}\\\\- \\sin{\\left(q_{1} \\right)} \\sin{\\left(q_{4} \\right)} + \\cos{\\left(q_{1} \\right)} \\cos{\\left(q_{2} \\right)} \\cos{\\left(q_{4} \\right)}\\\\\\sin{\\left(q_{2} \\right)} \\cos{\\left(q_{4} \\right)}\\end{matrix}\\right]$"
     },
     "execution_count": 8,
     "metadata": {},
     "output_type": "execute_result"
    }
   ],
   "source": [
    "# Joint 4 Position vector and rotation axis\n",
    "H4 = trigsimp(Rz(q1)*Tz(l1)*Tx(-l2)*Rx(q2)*Tz(l3)*Tz(d3)*Rz(q4))\n",
    "P4 = H4[0:3, -1]\n",
    "Z4 = H4[0:3, 1]\n",
    "Z4"
   ],
   "metadata": {
    "collapsed": false,
    "pycharm": {
     "name": "#%%\n"
    }
   }
  },
  {
   "cell_type": "code",
   "execution_count": 9,
   "outputs": [
    {
     "data": {
      "text/plain": "⎡-sin(q₁)⋅sin(q₄)⋅cos(q₂) + cos(q₁)⋅cos(q₄)  -(sin(q₁)⋅cos(q₂)⋅cos(q₄) + sin(q\n⎢                                                                             \n⎢sin(q₁)⋅cos(q₄) + sin(q₄)⋅cos(q₁)⋅cos(q₂)   (-sin(q₁)⋅sin(q₄) + cos(q₁)⋅cos(q\n⎢                                                                             \n⎢             sin(q₂)⋅sin(q₄)                                  sin(q₂)⋅cos(q₄)\n⎢                                                                             \n⎣                    0                                                        \n\n₄)⋅cos(q₁))⋅cos(q₅) + sin(q₁)⋅sin(q₂)⋅sin(q₅)   (sin(q₁)⋅cos(q₂)⋅cos(q₄) + sin\n                                                                              \n₂)⋅cos(q₄))⋅cos(q₅) - sin(q₂)⋅sin(q₅)⋅cos(q₁)  -(-sin(q₁)⋅sin(q₄) + cos(q₁)⋅co\n                                                                              \n⋅cos(q₅) + sin(q₅)⋅cos(q₂)                                       -sin(q₂)⋅sin(\n                                                                              \n     0                                                                        \n\n(q₄)⋅cos(q₁))⋅sin(q₅) + sin(q₁)⋅sin(q₂)⋅cos(q₅)   d₃⋅sin(q₁)⋅sin(q₂) + 30⋅sin(\n                                                                              \ns(q₂)⋅cos(q₄))⋅sin(q₅) - sin(q₂)⋅cos(q₁)⋅cos(q₅)  -d₃⋅sin(q₂)⋅cos(q₁) - 20⋅sin\n                                                                              \nq₅)⋅cos(q₄) + cos(q₂)⋅cos(q₅)                                 d₃⋅cos(q₂) + 30⋅\n                                                                              \n        0                                                                   1 \n\nq₁)⋅sin(q₂) - 20⋅cos(q₁) ⎤\n                         ⎥\n(q₁) - 30⋅sin(q₂)⋅cos(q₁)⎥\n                         ⎥\ncos(q₂) + 10             ⎥\n                         ⎥\n                         ⎦",
      "text/latex": "$\\displaystyle \\left[\\begin{matrix}- \\sin{\\left(q_{1} \\right)} \\sin{\\left(q_{4} \\right)} \\cos{\\left(q_{2} \\right)} + \\cos{\\left(q_{1} \\right)} \\cos{\\left(q_{4} \\right)} & - \\left(\\sin{\\left(q_{1} \\right)} \\cos{\\left(q_{2} \\right)} \\cos{\\left(q_{4} \\right)} + \\sin{\\left(q_{4} \\right)} \\cos{\\left(q_{1} \\right)}\\right) \\cos{\\left(q_{5} \\right)} + \\sin{\\left(q_{1} \\right)} \\sin{\\left(q_{2} \\right)} \\sin{\\left(q_{5} \\right)} & \\left(\\sin{\\left(q_{1} \\right)} \\cos{\\left(q_{2} \\right)} \\cos{\\left(q_{4} \\right)} + \\sin{\\left(q_{4} \\right)} \\cos{\\left(q_{1} \\right)}\\right) \\sin{\\left(q_{5} \\right)} + \\sin{\\left(q_{1} \\right)} \\sin{\\left(q_{2} \\right)} \\cos{\\left(q_{5} \\right)} & d_{3} \\sin{\\left(q_{1} \\right)} \\sin{\\left(q_{2} \\right)} + 30 \\sin{\\left(q_{1} \\right)} \\sin{\\left(q_{2} \\right)} - 20 \\cos{\\left(q_{1} \\right)}\\\\\\sin{\\left(q_{1} \\right)} \\cos{\\left(q_{4} \\right)} + \\sin{\\left(q_{4} \\right)} \\cos{\\left(q_{1} \\right)} \\cos{\\left(q_{2} \\right)} & \\left(- \\sin{\\left(q_{1} \\right)} \\sin{\\left(q_{4} \\right)} + \\cos{\\left(q_{1} \\right)} \\cos{\\left(q_{2} \\right)} \\cos{\\left(q_{4} \\right)}\\right) \\cos{\\left(q_{5} \\right)} - \\sin{\\left(q_{2} \\right)} \\sin{\\left(q_{5} \\right)} \\cos{\\left(q_{1} \\right)} & - \\left(- \\sin{\\left(q_{1} \\right)} \\sin{\\left(q_{4} \\right)} + \\cos{\\left(q_{1} \\right)} \\cos{\\left(q_{2} \\right)} \\cos{\\left(q_{4} \\right)}\\right) \\sin{\\left(q_{5} \\right)} - \\sin{\\left(q_{2} \\right)} \\cos{\\left(q_{1} \\right)} \\cos{\\left(q_{5} \\right)} & - d_{3} \\sin{\\left(q_{2} \\right)} \\cos{\\left(q_{1} \\right)} - 20 \\sin{\\left(q_{1} \\right)} - 30 \\sin{\\left(q_{2} \\right)} \\cos{\\left(q_{1} \\right)}\\\\\\sin{\\left(q_{2} \\right)} \\sin{\\left(q_{4} \\right)} & \\sin{\\left(q_{2} \\right)} \\cos{\\left(q_{4} \\right)} \\cos{\\left(q_{5} \\right)} + \\sin{\\left(q_{5} \\right)} \\cos{\\left(q_{2} \\right)} & - \\sin{\\left(q_{2} \\right)} \\sin{\\left(q_{5} \\right)} \\cos{\\left(q_{4} \\right)} + \\cos{\\left(q_{2} \\right)} \\cos{\\left(q_{5} \\right)} & d_{3} \\cos{\\left(q_{2} \\right)} + 30 \\cos{\\left(q_{2} \\right)} + 10\\\\0 & 0 & 0 & 1\\end{matrix}\\right]$"
     },
     "execution_count": 9,
     "metadata": {},
     "output_type": "execute_result"
    }
   ],
   "source": [
    "# Joint 5 Position vector and rotation axis\n",
    "H5 = trigsimp(Rz(q1)*Tz(l1)*Tx(-l2)*Rx(q2)*Tz(l3)*Tz(d3)*Rz(q4)*Rx(q5))\n",
    "P5 = H5[0:3, -1]\n",
    "Z5 = H5[0:3, 2]\n",
    "H5"
   ],
   "metadata": {
    "collapsed": false,
    "pycharm": {
     "name": "#%%\n"
    }
   }
  },
  {
   "cell_type": "code",
   "execution_count": 10,
   "outputs": [
    {
     "data": {
      "text/plain": "⎡(-(sin(q₁)⋅cos(q₂)⋅cos(q₄) + sin(q₄)⋅cos(q₁))⋅cos(q₅) + sin(q₁)⋅sin(q₂)⋅sin(q\n⎢                                                                             \n⎢((-sin(q₁)⋅sin(q₄) + cos(q₁)⋅cos(q₂)⋅cos(q₄))⋅cos(q₅) - sin(q₂)⋅sin(q₅)⋅cos(q\n⎢                                                                             \n⎢                                 (sin(q₂)⋅cos(q₄)⋅cos(q₅) + sin(q₅)⋅cos(q₂))⋅\n⎢                                                                             \n⎣                                                                       0     \n\n₅))⋅sin(q₆) + (-sin(q₁)⋅sin(q₄)⋅cos(q₂) + cos(q₁)⋅cos(q₄))⋅cos(q₆)  (-(sin(q₁)\n                                                                              \n₁))⋅sin(q₆) + (sin(q₁)⋅cos(q₄) + sin(q₄)⋅cos(q₁)⋅cos(q₂))⋅cos(q₆)   ((-sin(q₁)\n                                                                              \nsin(q₆) + sin(q₂)⋅sin(q₄)⋅cos(q₆)                                             \n                                                                              \n                                                                              \n\n⋅cos(q₂)⋅cos(q₄) + sin(q₄)⋅cos(q₁))⋅cos(q₅) + sin(q₁)⋅sin(q₂)⋅sin(q₅))⋅cos(q₆)\n                                                                              \n⋅sin(q₄) + cos(q₁)⋅cos(q₂)⋅cos(q₄))⋅cos(q₅) - sin(q₂)⋅sin(q₅)⋅cos(q₁))⋅cos(q₆)\n                                                                              \n                       (sin(q₂)⋅cos(q₄)⋅cos(q₅) + sin(q₅)⋅cos(q₂))⋅cos(q₆) - s\n                                                                              \n                                                             0                \n\n - (-sin(q₁)⋅sin(q₄)⋅cos(q₂) + cos(q₁)⋅cos(q₄))⋅sin(q₆)   (sin(q₁)⋅cos(q₂)⋅cos\n                                                                              \n - (sin(q₁)⋅cos(q₄) + sin(q₄)⋅cos(q₁)⋅cos(q₂))⋅sin(q₆)   -(-sin(q₁)⋅sin(q₄) + \n                                                                              \nin(q₂)⋅sin(q₄)⋅sin(q₆)                                                     -si\n                                                                              \n                                                                              \n\n(q₄) + sin(q₄)⋅cos(q₁))⋅sin(q₅) + sin(q₁)⋅sin(q₂)⋅cos(q₅)   d₃⋅sin(q₁)⋅sin(q₂)\n                                                                              \ncos(q₁)⋅cos(q₂)⋅cos(q₄))⋅sin(q₅) - sin(q₂)⋅cos(q₁)⋅cos(q₅)  -d₃⋅sin(q₂)⋅cos(q₁\n                                                                              \nn(q₂)⋅sin(q₅)⋅cos(q₄) + cos(q₂)⋅cos(q₅)                                 d₃⋅cos\n                                                                              \n                  0                                                           \n\n + 30⋅sin(q₁)⋅sin(q₂) - 20⋅cos(q₁) ⎤\n                                   ⎥\n) - 20⋅sin(q₁) - 30⋅sin(q₂)⋅cos(q₁)⎥\n                                   ⎥\n(q₂) + 30⋅cos(q₂) + 10             ⎥\n                                   ⎥\n        1                          ⎦",
      "text/latex": "$\\displaystyle \\left[\\begin{matrix}\\left(- \\left(\\sin{\\left(q_{1} \\right)} \\cos{\\left(q_{2} \\right)} \\cos{\\left(q_{4} \\right)} + \\sin{\\left(q_{4} \\right)} \\cos{\\left(q_{1} \\right)}\\right) \\cos{\\left(q_{5} \\right)} + \\sin{\\left(q_{1} \\right)} \\sin{\\left(q_{2} \\right)} \\sin{\\left(q_{5} \\right)}\\right) \\sin{\\left(q_{6} \\right)} + \\left(- \\sin{\\left(q_{1} \\right)} \\sin{\\left(q_{4} \\right)} \\cos{\\left(q_{2} \\right)} + \\cos{\\left(q_{1} \\right)} \\cos{\\left(q_{4} \\right)}\\right) \\cos{\\left(q_{6} \\right)} & \\left(- \\left(\\sin{\\left(q_{1} \\right)} \\cos{\\left(q_{2} \\right)} \\cos{\\left(q_{4} \\right)} + \\sin{\\left(q_{4} \\right)} \\cos{\\left(q_{1} \\right)}\\right) \\cos{\\left(q_{5} \\right)} + \\sin{\\left(q_{1} \\right)} \\sin{\\left(q_{2} \\right)} \\sin{\\left(q_{5} \\right)}\\right) \\cos{\\left(q_{6} \\right)} - \\left(- \\sin{\\left(q_{1} \\right)} \\sin{\\left(q_{4} \\right)} \\cos{\\left(q_{2} \\right)} + \\cos{\\left(q_{1} \\right)} \\cos{\\left(q_{4} \\right)}\\right) \\sin{\\left(q_{6} \\right)} & \\left(\\sin{\\left(q_{1} \\right)} \\cos{\\left(q_{2} \\right)} \\cos{\\left(q_{4} \\right)} + \\sin{\\left(q_{4} \\right)} \\cos{\\left(q_{1} \\right)}\\right) \\sin{\\left(q_{5} \\right)} + \\sin{\\left(q_{1} \\right)} \\sin{\\left(q_{2} \\right)} \\cos{\\left(q_{5} \\right)} & d_{3} \\sin{\\left(q_{1} \\right)} \\sin{\\left(q_{2} \\right)} + 30 \\sin{\\left(q_{1} \\right)} \\sin{\\left(q_{2} \\right)} - 20 \\cos{\\left(q_{1} \\right)}\\\\\\left(\\left(- \\sin{\\left(q_{1} \\right)} \\sin{\\left(q_{4} \\right)} + \\cos{\\left(q_{1} \\right)} \\cos{\\left(q_{2} \\right)} \\cos{\\left(q_{4} \\right)}\\right) \\cos{\\left(q_{5} \\right)} - \\sin{\\left(q_{2} \\right)} \\sin{\\left(q_{5} \\right)} \\cos{\\left(q_{1} \\right)}\\right) \\sin{\\left(q_{6} \\right)} + \\left(\\sin{\\left(q_{1} \\right)} \\cos{\\left(q_{4} \\right)} + \\sin{\\left(q_{4} \\right)} \\cos{\\left(q_{1} \\right)} \\cos{\\left(q_{2} \\right)}\\right) \\cos{\\left(q_{6} \\right)} & \\left(\\left(- \\sin{\\left(q_{1} \\right)} \\sin{\\left(q_{4} \\right)} + \\cos{\\left(q_{1} \\right)} \\cos{\\left(q_{2} \\right)} \\cos{\\left(q_{4} \\right)}\\right) \\cos{\\left(q_{5} \\right)} - \\sin{\\left(q_{2} \\right)} \\sin{\\left(q_{5} \\right)} \\cos{\\left(q_{1} \\right)}\\right) \\cos{\\left(q_{6} \\right)} - \\left(\\sin{\\left(q_{1} \\right)} \\cos{\\left(q_{4} \\right)} + \\sin{\\left(q_{4} \\right)} \\cos{\\left(q_{1} \\right)} \\cos{\\left(q_{2} \\right)}\\right) \\sin{\\left(q_{6} \\right)} & - \\left(- \\sin{\\left(q_{1} \\right)} \\sin{\\left(q_{4} \\right)} + \\cos{\\left(q_{1} \\right)} \\cos{\\left(q_{2} \\right)} \\cos{\\left(q_{4} \\right)}\\right) \\sin{\\left(q_{5} \\right)} - \\sin{\\left(q_{2} \\right)} \\cos{\\left(q_{1} \\right)} \\cos{\\left(q_{5} \\right)} & - d_{3} \\sin{\\left(q_{2} \\right)} \\cos{\\left(q_{1} \\right)} - 20 \\sin{\\left(q_{1} \\right)} - 30 \\sin{\\left(q_{2} \\right)} \\cos{\\left(q_{1} \\right)}\\\\\\left(\\sin{\\left(q_{2} \\right)} \\cos{\\left(q_{4} \\right)} \\cos{\\left(q_{5} \\right)} + \\sin{\\left(q_{5} \\right)} \\cos{\\left(q_{2} \\right)}\\right) \\sin{\\left(q_{6} \\right)} + \\sin{\\left(q_{2} \\right)} \\sin{\\left(q_{4} \\right)} \\cos{\\left(q_{6} \\right)} & \\left(\\sin{\\left(q_{2} \\right)} \\cos{\\left(q_{4} \\right)} \\cos{\\left(q_{5} \\right)} + \\sin{\\left(q_{5} \\right)} \\cos{\\left(q_{2} \\right)}\\right) \\cos{\\left(q_{6} \\right)} - \\sin{\\left(q_{2} \\right)} \\sin{\\left(q_{4} \\right)} \\sin{\\left(q_{6} \\right)} & - \\sin{\\left(q_{2} \\right)} \\sin{\\left(q_{5} \\right)} \\cos{\\left(q_{4} \\right)} + \\cos{\\left(q_{2} \\right)} \\cos{\\left(q_{5} \\right)} & d_{3} \\cos{\\left(q_{2} \\right)} + 30 \\cos{\\left(q_{2} \\right)} + 10\\\\0 & 0 & 0 & 1\\end{matrix}\\right]$"
     },
     "execution_count": 10,
     "metadata": {},
     "output_type": "execute_result"
    }
   ],
   "source": [
    "# Joint 6 Position vector and rotation axis\n",
    "H6 = trigsimp(Rz(q1)*Tz(l1)*Tx(-l2)*Rx(q2)*Tz(l3)*Tz(d3)*Rz(q4)*Rx(q5)*Rz(q6))\n",
    "P6 = H6[0:3, -1]\n",
    "H6"
   ],
   "metadata": {
    "collapsed": false,
    "pycharm": {
     "name": "#%%\n"
    }
   }
  },
  {
   "cell_type": "code",
   "execution_count": 11,
   "outputs": [],
   "source": [
    "J1 = trigsimp(Z0.cross(P6 - P0)).row_insert(len(Z0), Z0)\n",
    "J2 = trigsimp(Z1.cross(P6 - P1)).row_insert(len(Z1), Z1)\n",
    "J3 = Z2.row_insert(len(Z0), Matrix([0, 0, 0]))\n",
    "J4 = trigsimp(Z3.cross(P6 - P3)).row_insert(len(Z3), Z3)\n",
    "J5 = trigsimp(Z4.cross(P6 - P4)).row_insert(len(Z4), Z4)\n",
    "J6 = trigsimp(Z5.cross(P6 - P5)).row_insert(len(Z5), Z5)"
   ],
   "metadata": {
    "collapsed": false,
    "pycharm": {
     "name": "#%%\n"
    }
   }
  },
  {
   "cell_type": "code",
   "execution_count": 12,
   "outputs": [],
   "source": [
    "J_Function = J1.col_insert(1, J2)\\\n",
    "    .col_insert(2, J3)\\\n",
    "    .col_insert(3, J4)\\\n",
    "    .col_insert(4, J5)\\\n",
    "    .col_insert(4, J6)"
   ],
   "metadata": {
    "collapsed": false,
    "pycharm": {
     "name": "#%%\n"
    }
   }
  },
  {
   "cell_type": "code",
   "execution_count": 13,
   "outputs": [
    {
     "data": {
      "text/plain": "⎡d₃⋅sin(q₂)⋅cos(q₁) + 20⋅sin(q₁) + 30⋅sin(q₂)⋅cos(q₁)  (d₃ + 30)⋅sin(q₁)⋅cos(q\n⎢                                                                             \n⎢d₃⋅sin(q₁)⋅sin(q₂) + 30⋅sin(q₁)⋅sin(q₂) - 20⋅cos(q₁)  (-d₃ - 30)⋅cos(q₁)⋅cos(\n⎢                                                                             \n⎢                         0                                -(d₃ + 30)⋅sin(q₂) \n⎢                                                                             \n⎢                         0                                     cos(q₁)       \n⎢                                                                             \n⎢                         0                                     sin(q₁)       \n⎢                                                                             \n⎣                         1                                        0          \n\n₂)   sin(q₁)⋅sin(q₂)          0                                               \n                                                                              \nq₂)  -sin(q₂)⋅cos(q₁)         0                                               \n                                                                              \n         cos(q₂)              0                                               \n                                                                              \n            0          sin(q₁)⋅sin(q₂)    (sin(q₁)⋅cos(q₂)⋅cos(q₄) + sin(q₄)⋅c\n                                                                              \n            0          -sin(q₂)⋅cos(q₁)  -(-sin(q₁)⋅sin(q₄) + cos(q₁)⋅cos(q₂)⋅\n                                                                              \n            0              cos(q₂)                         -sin(q₂)⋅sin(q₅)⋅co\n\n  0                                                             0             \n                                                                              \n  0                                                             0             \n                                                                              \n  0                                                             0             \n                                                                              \nos(q₁))⋅sin(q₅) + sin(q₁)⋅sin(q₂)⋅cos(q₅)   -sin(q₁)⋅cos(q₂)⋅cos(q₄) - sin(q₄)\n                                                                              \ncos(q₄))⋅sin(q₅) - sin(q₂)⋅cos(q₁)⋅cos(q₅)  -sin(q₁)⋅sin(q₄) + cos(q₁)⋅cos(q₂)\n                                                                              \ns(q₄) + cos(q₂)⋅cos(q₅)                                  sin(q₂)⋅cos(q₄)      \n\n        ⎤\n        ⎥\n        ⎥\n        ⎥\n        ⎥\n        ⎥\n⋅cos(q₁)⎥\n        ⎥\n⋅cos(q₄)⎥\n        ⎥\n        ⎦",
      "text/latex": "$\\displaystyle \\left[\\begin{matrix}d_{3} \\sin{\\left(q_{2} \\right)} \\cos{\\left(q_{1} \\right)} + 20 \\sin{\\left(q_{1} \\right)} + 30 \\sin{\\left(q_{2} \\right)} \\cos{\\left(q_{1} \\right)} & \\left(d_{3} + 30\\right) \\sin{\\left(q_{1} \\right)} \\cos{\\left(q_{2} \\right)} & \\sin{\\left(q_{1} \\right)} \\sin{\\left(q_{2} \\right)} & 0 & 0 & 0\\\\d_{3} \\sin{\\left(q_{1} \\right)} \\sin{\\left(q_{2} \\right)} + 30 \\sin{\\left(q_{1} \\right)} \\sin{\\left(q_{2} \\right)} - 20 \\cos{\\left(q_{1} \\right)} & \\left(- d_{3} - 30\\right) \\cos{\\left(q_{1} \\right)} \\cos{\\left(q_{2} \\right)} & - \\sin{\\left(q_{2} \\right)} \\cos{\\left(q_{1} \\right)} & 0 & 0 & 0\\\\0 & - \\left(d_{3} + 30\\right) \\sin{\\left(q_{2} \\right)} & \\cos{\\left(q_{2} \\right)} & 0 & 0 & 0\\\\0 & \\cos{\\left(q_{1} \\right)} & 0 & \\sin{\\left(q_{1} \\right)} \\sin{\\left(q_{2} \\right)} & \\left(\\sin{\\left(q_{1} \\right)} \\cos{\\left(q_{2} \\right)} \\cos{\\left(q_{4} \\right)} + \\sin{\\left(q_{4} \\right)} \\cos{\\left(q_{1} \\right)}\\right) \\sin{\\left(q_{5} \\right)} + \\sin{\\left(q_{1} \\right)} \\sin{\\left(q_{2} \\right)} \\cos{\\left(q_{5} \\right)} & - \\sin{\\left(q_{1} \\right)} \\cos{\\left(q_{2} \\right)} \\cos{\\left(q_{4} \\right)} - \\sin{\\left(q_{4} \\right)} \\cos{\\left(q_{1} \\right)}\\\\0 & \\sin{\\left(q_{1} \\right)} & 0 & - \\sin{\\left(q_{2} \\right)} \\cos{\\left(q_{1} \\right)} & - \\left(- \\sin{\\left(q_{1} \\right)} \\sin{\\left(q_{4} \\right)} + \\cos{\\left(q_{1} \\right)} \\cos{\\left(q_{2} \\right)} \\cos{\\left(q_{4} \\right)}\\right) \\sin{\\left(q_{5} \\right)} - \\sin{\\left(q_{2} \\right)} \\cos{\\left(q_{1} \\right)} \\cos{\\left(q_{5} \\right)} & - \\sin{\\left(q_{1} \\right)} \\sin{\\left(q_{4} \\right)} + \\cos{\\left(q_{1} \\right)} \\cos{\\left(q_{2} \\right)} \\cos{\\left(q_{4} \\right)}\\\\1 & 0 & 0 & \\cos{\\left(q_{2} \\right)} & - \\sin{\\left(q_{2} \\right)} \\sin{\\left(q_{5} \\right)} \\cos{\\left(q_{4} \\right)} + \\cos{\\left(q_{2} \\right)} \\cos{\\left(q_{5} \\right)} & \\sin{\\left(q_{2} \\right)} \\cos{\\left(q_{4} \\right)}\\end{matrix}\\right]$"
     },
     "execution_count": 13,
     "metadata": {},
     "output_type": "execute_result"
    }
   ],
   "source": [
    "J_Function"
   ],
   "metadata": {
    "collapsed": false,
    "pycharm": {
     "name": "#%%\n"
    }
   }
  },
  {
   "cell_type": "code",
   "execution_count": null,
   "outputs": [],
   "source": [],
   "metadata": {
    "collapsed": false,
    "pycharm": {
     "name": "#%%\n"
    }
   }
  }
 ],
 "metadata": {
  "kernelspec": {
   "display_name": "Python 3",
   "language": "python",
   "name": "python3"
  },
  "language_info": {
   "codemirror_mode": {
    "name": "ipython",
    "version": 2
   },
   "file_extension": ".py",
   "mimetype": "text/x-python",
   "name": "python",
   "nbconvert_exporter": "python",
   "pygments_lexer": "ipython2",
   "version": "2.7.6"
  }
 },
 "nbformat": 4,
 "nbformat_minor": 0
}