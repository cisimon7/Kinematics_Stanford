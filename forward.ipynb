{
 "cells": [
  {
   "cell_type": "code",
   "execution_count": 30,
   "metadata": {
    "collapsed": true
   },
   "outputs": [],
   "source": [
    "from utils import *\n",
    "from sympy import symbols, trigsimp, simplify, radsimp, lambdify\n",
    "from math import pi"
   ]
  },
  {
   "cell_type": "code",
   "execution_count": 9,
   "outputs": [],
   "source": [
    "# Joint parameters declaration\n",
    "q1, q2, d3, q4, q5, q6 = symbols(\"q1 q2 d3 q4 q5 q6\", real=True)"
   ],
   "metadata": {
    "collapsed": false,
    "pycharm": {
     "name": "#%%\n"
    }
   }
  },
  {
   "cell_type": "code",
   "execution_count": 10,
   "outputs": [],
   "source": [
    "# Link length initialization\n",
    "l1, l2, l3 = 10, 20, 30"
   ],
   "metadata": {
    "collapsed": false,
    "pycharm": {
     "name": "#%%\n"
    }
   }
  },
  {
   "cell_type": "code",
   "execution_count": 11,
   "outputs": [
    {
     "data": {
      "text/plain": "Matrix([\n[(-(sin(q1)*cos(q2)*cos(q4) + sin(q4)*cos(q1))*cos(q5) + sin(q1)*sin(q2)*sin(q5))*sin(q6) + (-sin(q1)*sin(q4)*cos(q2) + cos(q1)*cos(q4))*cos(q6), (-(sin(q1)*cos(q2)*cos(q4) + sin(q4)*cos(q1))*cos(q5) + sin(q1)*sin(q2)*sin(q5))*cos(q6) - (-sin(q1)*sin(q4)*cos(q2) + cos(q1)*cos(q4))*sin(q6),   (sin(q1)*cos(q2)*cos(q4) + sin(q4)*cos(q1))*sin(q5) + sin(q1)*sin(q2)*cos(q5),  d3*sin(q1)*sin(q2) + 30*sin(q1)*sin(q2) - 20*cos(q1)],\n[ ((-sin(q1)*sin(q4) + cos(q1)*cos(q2)*cos(q4))*cos(q5) - sin(q2)*sin(q5)*cos(q1))*sin(q6) + (sin(q1)*cos(q4) + sin(q4)*cos(q1)*cos(q2))*cos(q6),  ((-sin(q1)*sin(q4) + cos(q1)*cos(q2)*cos(q4))*cos(q5) - sin(q2)*sin(q5)*cos(q1))*cos(q6) - (sin(q1)*cos(q4) + sin(q4)*cos(q1)*cos(q2))*sin(q6), -(-sin(q1)*sin(q4) + cos(q1)*cos(q2)*cos(q4))*sin(q5) - sin(q2)*cos(q1)*cos(q5), -d3*sin(q2)*cos(q1) - 20*sin(q1) - 30*sin(q2)*cos(q1)],\n[                                                                  (sin(q2)*cos(q4)*cos(q5) + sin(q5)*cos(q2))*sin(q6) + sin(q2)*sin(q4)*cos(q6),                                                                   (sin(q2)*cos(q4)*cos(q5) + sin(q5)*cos(q2))*cos(q6) - sin(q2)*sin(q4)*sin(q6),                                      -sin(q2)*sin(q5)*cos(q4) + cos(q2)*cos(q5),                          d3*cos(q2) + 30*cos(q2) + 10],\n[                                                                                                                                              0,                                                                                                                                               0,                                                                               0,                                                     1]])",
      "text/latex": "$\\displaystyle \\left[\\begin{matrix}\\left(- \\left(\\sin{\\left(q_{1} \\right)} \\cos{\\left(q_{2} \\right)} \\cos{\\left(q_{4} \\right)} + \\sin{\\left(q_{4} \\right)} \\cos{\\left(q_{1} \\right)}\\right) \\cos{\\left(q_{5} \\right)} + \\sin{\\left(q_{1} \\right)} \\sin{\\left(q_{2} \\right)} \\sin{\\left(q_{5} \\right)}\\right) \\sin{\\left(q_{6} \\right)} + \\left(- \\sin{\\left(q_{1} \\right)} \\sin{\\left(q_{4} \\right)} \\cos{\\left(q_{2} \\right)} + \\cos{\\left(q_{1} \\right)} \\cos{\\left(q_{4} \\right)}\\right) \\cos{\\left(q_{6} \\right)} & \\left(- \\left(\\sin{\\left(q_{1} \\right)} \\cos{\\left(q_{2} \\right)} \\cos{\\left(q_{4} \\right)} + \\sin{\\left(q_{4} \\right)} \\cos{\\left(q_{1} \\right)}\\right) \\cos{\\left(q_{5} \\right)} + \\sin{\\left(q_{1} \\right)} \\sin{\\left(q_{2} \\right)} \\sin{\\left(q_{5} \\right)}\\right) \\cos{\\left(q_{6} \\right)} - \\left(- \\sin{\\left(q_{1} \\right)} \\sin{\\left(q_{4} \\right)} \\cos{\\left(q_{2} \\right)} + \\cos{\\left(q_{1} \\right)} \\cos{\\left(q_{4} \\right)}\\right) \\sin{\\left(q_{6} \\right)} & \\left(\\sin{\\left(q_{1} \\right)} \\cos{\\left(q_{2} \\right)} \\cos{\\left(q_{4} \\right)} + \\sin{\\left(q_{4} \\right)} \\cos{\\left(q_{1} \\right)}\\right) \\sin{\\left(q_{5} \\right)} + \\sin{\\left(q_{1} \\right)} \\sin{\\left(q_{2} \\right)} \\cos{\\left(q_{5} \\right)} & d_{3} \\sin{\\left(q_{1} \\right)} \\sin{\\left(q_{2} \\right)} + 30 \\sin{\\left(q_{1} \\right)} \\sin{\\left(q_{2} \\right)} - 20 \\cos{\\left(q_{1} \\right)}\\\\\\left(\\left(- \\sin{\\left(q_{1} \\right)} \\sin{\\left(q_{4} \\right)} + \\cos{\\left(q_{1} \\right)} \\cos{\\left(q_{2} \\right)} \\cos{\\left(q_{4} \\right)}\\right) \\cos{\\left(q_{5} \\right)} - \\sin{\\left(q_{2} \\right)} \\sin{\\left(q_{5} \\right)} \\cos{\\left(q_{1} \\right)}\\right) \\sin{\\left(q_{6} \\right)} + \\left(\\sin{\\left(q_{1} \\right)} \\cos{\\left(q_{4} \\right)} + \\sin{\\left(q_{4} \\right)} \\cos{\\left(q_{1} \\right)} \\cos{\\left(q_{2} \\right)}\\right) \\cos{\\left(q_{6} \\right)} & \\left(\\left(- \\sin{\\left(q_{1} \\right)} \\sin{\\left(q_{4} \\right)} + \\cos{\\left(q_{1} \\right)} \\cos{\\left(q_{2} \\right)} \\cos{\\left(q_{4} \\right)}\\right) \\cos{\\left(q_{5} \\right)} - \\sin{\\left(q_{2} \\right)} \\sin{\\left(q_{5} \\right)} \\cos{\\left(q_{1} \\right)}\\right) \\cos{\\left(q_{6} \\right)} - \\left(\\sin{\\left(q_{1} \\right)} \\cos{\\left(q_{4} \\right)} + \\sin{\\left(q_{4} \\right)} \\cos{\\left(q_{1} \\right)} \\cos{\\left(q_{2} \\right)}\\right) \\sin{\\left(q_{6} \\right)} & - \\left(- \\sin{\\left(q_{1} \\right)} \\sin{\\left(q_{4} \\right)} + \\cos{\\left(q_{1} \\right)} \\cos{\\left(q_{2} \\right)} \\cos{\\left(q_{4} \\right)}\\right) \\sin{\\left(q_{5} \\right)} - \\sin{\\left(q_{2} \\right)} \\cos{\\left(q_{1} \\right)} \\cos{\\left(q_{5} \\right)} & - d_{3} \\sin{\\left(q_{2} \\right)} \\cos{\\left(q_{1} \\right)} - 20 \\sin{\\left(q_{1} \\right)} - 30 \\sin{\\left(q_{2} \\right)} \\cos{\\left(q_{1} \\right)}\\\\\\left(\\sin{\\left(q_{2} \\right)} \\cos{\\left(q_{4} \\right)} \\cos{\\left(q_{5} \\right)} + \\sin{\\left(q_{5} \\right)} \\cos{\\left(q_{2} \\right)}\\right) \\sin{\\left(q_{6} \\right)} + \\sin{\\left(q_{2} \\right)} \\sin{\\left(q_{4} \\right)} \\cos{\\left(q_{6} \\right)} & \\left(\\sin{\\left(q_{2} \\right)} \\cos{\\left(q_{4} \\right)} \\cos{\\left(q_{5} \\right)} + \\sin{\\left(q_{5} \\right)} \\cos{\\left(q_{2} \\right)}\\right) \\cos{\\left(q_{6} \\right)} - \\sin{\\left(q_{2} \\right)} \\sin{\\left(q_{4} \\right)} \\sin{\\left(q_{6} \\right)} & - \\sin{\\left(q_{2} \\right)} \\sin{\\left(q_{5} \\right)} \\cos{\\left(q_{4} \\right)} + \\cos{\\left(q_{2} \\right)} \\cos{\\left(q_{5} \\right)} & d_{3} \\cos{\\left(q_{2} \\right)} + 30 \\cos{\\left(q_{2} \\right)} + 10\\\\0 & 0 & 0 & 1\\end{matrix}\\right]$"
     },
     "execution_count": 11,
     "metadata": {},
     "output_type": "execute_result"
    }
   ],
   "source": [
    "# Forward Kinematics\n",
    "H = Rz(q1)*Tz(l1)*Tx(-l2)*Rx(q2)*Tz(l3)*Tz(d3)*Rz(q4)*Rx(q5)*Rz(q6)\n",
    "H = trigsimp(H)\n",
    "H"
   ],
   "metadata": {
    "collapsed": false,
    "pycharm": {
     "name": "#%%\n"
    }
   }
  },
  {
   "cell_type": "code",
   "execution_count": 12,
   "outputs": [
    {
     "data": {
      "text/plain": "Matrix([\n[1, 0, 0, -20],\n[0, 1, 0,   0],\n[0, 0, 1,  40],\n[0, 0, 0,   1]])",
      "text/latex": "$\\displaystyle \\left[\\begin{matrix}1 & 0 & 0 & -20\\\\0 & 1 & 0 & 0\\\\0 & 0 & 1 & 40\\\\0 & 0 & 0 & 1\\end{matrix}\\right]$"
     },
     "execution_count": 12,
     "metadata": {},
     "output_type": "execute_result"
    }
   ],
   "source": [
    "# Testing with all zero configuration\n",
    "h_test = H.subs([\n",
    "    (q1, 0),\n",
    "    (q2, 0),\n",
    "    (d3, 0),\n",
    "    (q4, 0),\n",
    "    (q5, 0),\n",
    "    (q6, 0)\n",
    "])\n",
    "\n",
    "h_test"
   ],
   "metadata": {
    "collapsed": false,
    "pycharm": {
     "name": "#%%\n"
    }
   }
  },
  {
   "cell_type": "code",
   "execution_count": 33,
   "outputs": [
    {
     "data": {
      "text/plain": "array([[  0.95046389,   0.28093323,   0.13302222, -13.04504398],\n       [ -0.28093323,   0.5932515 ,   0.75440651,  41.19328889],\n       [  0.13302222,  -0.75440651,   0.64278761,  42.13938048],\n       [  0.        ,   0.        ,   0.        ,   1.        ]])"
     },
     "execution_count": 33,
     "metadata": {},
     "output_type": "execute_result"
    }
   ],
   "source": [
    "# Random configuration\n",
    "# h_test = H.subs([\n",
    "#     (q1, 10*pi/180),\n",
    "#     (q2, -50*pi/180),\n",
    "#     (d3, 20),\n",
    "#     (q4, 50*pi/180),\n",
    "#     (q5, 0*pi/180),\n",
    "#     (q6, -60*pi/180)\n",
    "# ])\n",
    "\n",
    "h_test = trigsimp(h_test)\n",
    "f = lambdify([(q1, q2, d3, q4, q5, q6)], H, \"numpy\")\n",
    "f((\n",
    "    (-10*pi/180), #q1\n",
    "    (-50*pi/180), #q2\n",
    "    20, #d3\n",
    "    (50*pi/180), #q4\n",
    "    (0*pi/180), #q5\n",
    "    (-60*pi/180) #q6\n",
    "))"
   ],
   "metadata": {
    "collapsed": false,
    "pycharm": {
     "name": "#%%\n"
    }
   }
  },
  {
   "cell_type": "code",
   "execution_count": null,
   "outputs": [],
   "source": [],
   "metadata": {
    "collapsed": false,
    "pycharm": {
     "name": "#%%\n"
    }
   }
  }
 ],
 "metadata": {
  "kernelspec": {
   "display_name": "Python 3",
   "language": "python",
   "name": "python3"
  },
  "language_info": {
   "codemirror_mode": {
    "name": "ipython",
    "version": 2
   },
   "file_extension": ".py",
   "mimetype": "text/x-python",
   "name": "python",
   "nbconvert_exporter": "python",
   "pygments_lexer": "ipython2",
   "version": "2.7.6"
  }
 },
 "nbformat": 4,
 "nbformat_minor": 0
}